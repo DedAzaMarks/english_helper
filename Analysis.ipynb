{
 "cells": [
  {
   "cell_type": "code",
   "execution_count": 1,
   "metadata": {
    "id": "YemVbY2Qwwsw"
   },
   "outputs": [],
   "source": [
    "import pandas as pd\n",
    "import seaborn as sns"
   ]
  },
  {
   "cell_type": "code",
   "execution_count": 2,
   "metadata": {
    "id": "p60Y858dw23f"
   },
   "outputs": [],
   "source": [
    "data_df = pd.read_json('https://api.telegram.org/bot1761023031:AAF61sXqktr3ar_GYAx_QvWb6pkKd3bin6I/getUpdates')\n"
   ]
  },
  {
   "cell_type": "code",
   "execution_count": 3,
   "metadata": {
    "id": "ewjf25YXB5rc"
   },
   "outputs": [],
   "source": [
    "def clean_data(data, name1, name2):\n",
    "  data_name1 = list(map(lambda x: x[name1], data))\n",
    "  data_name2 = data_from = list(map(lambda x: x[name2], data_name1))\n",
    "  return data_name2"
   ]
  },
  {
   "cell_type": "code",
   "execution_count": 4,
   "metadata": {
    "id": "iQK1Z1Yp4L3C"
   },
   "outputs": [],
   "source": [
    "\n",
    "data = list(map(lambda x: x['message'], data_df['result']))\n",
    "data_df['from_id'] = clean_data(data, 'from', 'id')\n",
    "data_df['from_isbot'] = clean_data(data, 'from', 'is_bot')\n",
    "data_df['chat_type'] = clean_data(data, 'chat', 'type')\n",
    "data_df['chat_username'] = clean_data(data, 'chat', 'username')\n",
    "data_df['from_language_code'] = clean_data(data, 'from', 'language_code')\n",
    "data_df['text'] = list(map(lambda x: x['text'], data))\n",
    "data_df['date'] = list(map(lambda x: x['date'], data))\n",
    "data_df['message_id'] = list(map(lambda x: x['message_id'], data))\n",
    "data_df['update_id'] = list(map(lambda x: x['update_id'], data_df['result']))\n"
   ]
  },
  {
   "cell_type": "code",
   "execution_count": 5,
   "metadata": {
    "id": "OtV1lHqxKqqy"
   },
   "outputs": [],
   "source": [
    "data_new = pd.read_csv(\"data_chatbot.csv\", sep=',', header=None)\n"
   ]
  },
  {
   "cell_type": "code",
   "execution_count": 6,
   "metadata": {},
   "outputs": [
    {
     "data": {
      "text/plain": "            0             1  \\\n0   879665843     translate   \n1   879665845     translate   \n2   879665847    /translate   \n3   879665848    /translate   \n4   879665849    /translate   \n5   879665852     /antonyms   \n6   879665854     /synonyms   \n7   879665863    /translate   \n8   879665866  /definitions   \n9   879665868     /examples   \n10  879665870  /definitions   \n11  879665871  /definitions   \n12  879665873     /synonyms   \n13  879665874     /synonyms   \n14  879665877  /definitions   \n15  879665878  /definitions   \n16  879665879  /definitions   \n17  879665880  /definitions   \n\n                                                    2                3  \\\n0                                               sharp  20:44:40.084899   \n1                                               sharp  20:44:57.928796   \n2                                               sharp  20:45:04.887422   \n3                                              чаевые  20:45:10.206707   \n4                                                 чек  20:45:15.580749   \n5                                               angry  20:45:40.193704   \n6                                            charming  20:46:21.934808   \n7   Is it for fear to wet a widow's eye,\\nThat tho...  20:57:09.736097   \n8                                                lake  20:58:02.273934   \n9                                                lake  20:58:11.440843   \n10                                             sunset  20:58:24.861600   \n11                                               math  20:58:40.973808   \n12                                               math  20:58:50.081359   \n13                                               meth  20:58:54.960455   \n14                                             Russia  20:59:27.909433   \n15                                 Russian Federation  21:00:09.377939   \n16                                                USA  21:00:25.798577   \n17                                              Lenin  21:01:50.187308   \n\n                                                    4                5  \n0                                                      20:44:40.598211  \n1                                                      20:44:58.461667  \n2                                              острый  20:45:05.891340  \n3                                                 tip  20:45:11.299860  \n4                                             receipt  20:45:16.372638  \n5                                             unangry  20:45:40.815621  \n6    magic, magical, sorcerous, witching, wizard, ...  20:46:22.614497  \n7   От страха ли промочить глаз вдове, Что ты пожи...  20:57:10.696680  \n8    definition: a body of (usually fresh) water s...  20:58:02.878271  \n9                                                      20:58:11.998675  \n10   definition: the time in the evening at which ...  20:58:25.991970  \n11   definition: a science (or group of related sc...  20:58:41.519592  \n12                                 mathematics, maths  20:58:50.607824  \n13   chalk, chicken feed, crank, deoxyephedrine, g...  20:58:55.529759  \n14   definition: a former communist country in eas...  20:59:28.726288  \n15   definition: a native or inhabitant of Russia;...  21:00:10.816732  \n16   definition: North American republic containin...  21:00:26.378382  \n17   definition: Russian founder of the Bolsheviks...  21:01:50.732104  ",
      "text/html": "<div>\n<style scoped>\n    .dataframe tbody tr th:only-of-type {\n        vertical-align: middle;\n    }\n\n    .dataframe tbody tr th {\n        vertical-align: top;\n    }\n\n    .dataframe thead th {\n        text-align: right;\n    }\n</style>\n<table border=\"1\" class=\"dataframe\">\n  <thead>\n    <tr style=\"text-align: right;\">\n      <th></th>\n      <th>0</th>\n      <th>1</th>\n      <th>2</th>\n      <th>3</th>\n      <th>4</th>\n      <th>5</th>\n    </tr>\n  </thead>\n  <tbody>\n    <tr>\n      <th>0</th>\n      <td>879665843</td>\n      <td>translate</td>\n      <td>sharp</td>\n      <td>20:44:40.084899</td>\n      <td></td>\n      <td>20:44:40.598211</td>\n    </tr>\n    <tr>\n      <th>1</th>\n      <td>879665845</td>\n      <td>translate</td>\n      <td>sharp</td>\n      <td>20:44:57.928796</td>\n      <td></td>\n      <td>20:44:58.461667</td>\n    </tr>\n    <tr>\n      <th>2</th>\n      <td>879665847</td>\n      <td>/translate</td>\n      <td>sharp</td>\n      <td>20:45:04.887422</td>\n      <td>острый</td>\n      <td>20:45:05.891340</td>\n    </tr>\n    <tr>\n      <th>3</th>\n      <td>879665848</td>\n      <td>/translate</td>\n      <td>чаевые</td>\n      <td>20:45:10.206707</td>\n      <td>tip</td>\n      <td>20:45:11.299860</td>\n    </tr>\n    <tr>\n      <th>4</th>\n      <td>879665849</td>\n      <td>/translate</td>\n      <td>чек</td>\n      <td>20:45:15.580749</td>\n      <td>receipt</td>\n      <td>20:45:16.372638</td>\n    </tr>\n    <tr>\n      <th>5</th>\n      <td>879665852</td>\n      <td>/antonyms</td>\n      <td>angry</td>\n      <td>20:45:40.193704</td>\n      <td>unangry</td>\n      <td>20:45:40.815621</td>\n    </tr>\n    <tr>\n      <th>6</th>\n      <td>879665854</td>\n      <td>/synonyms</td>\n      <td>charming</td>\n      <td>20:46:21.934808</td>\n      <td>magic, magical, sorcerous, witching, wizard, ...</td>\n      <td>20:46:22.614497</td>\n    </tr>\n    <tr>\n      <th>7</th>\n      <td>879665863</td>\n      <td>/translate</td>\n      <td>Is it for fear to wet a widow's eye,\\nThat tho...</td>\n      <td>20:57:09.736097</td>\n      <td>От страха ли промочить глаз вдове, Что ты пожи...</td>\n      <td>20:57:10.696680</td>\n    </tr>\n    <tr>\n      <th>8</th>\n      <td>879665866</td>\n      <td>/definitions</td>\n      <td>lake</td>\n      <td>20:58:02.273934</td>\n      <td>definition: a body of (usually fresh) water s...</td>\n      <td>20:58:02.878271</td>\n    </tr>\n    <tr>\n      <th>9</th>\n      <td>879665868</td>\n      <td>/examples</td>\n      <td>lake</td>\n      <td>20:58:11.440843</td>\n      <td></td>\n      <td>20:58:11.998675</td>\n    </tr>\n    <tr>\n      <th>10</th>\n      <td>879665870</td>\n      <td>/definitions</td>\n      <td>sunset</td>\n      <td>20:58:24.861600</td>\n      <td>definition: the time in the evening at which ...</td>\n      <td>20:58:25.991970</td>\n    </tr>\n    <tr>\n      <th>11</th>\n      <td>879665871</td>\n      <td>/definitions</td>\n      <td>math</td>\n      <td>20:58:40.973808</td>\n      <td>definition: a science (or group of related sc...</td>\n      <td>20:58:41.519592</td>\n    </tr>\n    <tr>\n      <th>12</th>\n      <td>879665873</td>\n      <td>/synonyms</td>\n      <td>math</td>\n      <td>20:58:50.081359</td>\n      <td>mathematics, maths</td>\n      <td>20:58:50.607824</td>\n    </tr>\n    <tr>\n      <th>13</th>\n      <td>879665874</td>\n      <td>/synonyms</td>\n      <td>meth</td>\n      <td>20:58:54.960455</td>\n      <td>chalk, chicken feed, crank, deoxyephedrine, g...</td>\n      <td>20:58:55.529759</td>\n    </tr>\n    <tr>\n      <th>14</th>\n      <td>879665877</td>\n      <td>/definitions</td>\n      <td>Russia</td>\n      <td>20:59:27.909433</td>\n      <td>definition: a former communist country in eas...</td>\n      <td>20:59:28.726288</td>\n    </tr>\n    <tr>\n      <th>15</th>\n      <td>879665878</td>\n      <td>/definitions</td>\n      <td>Russian Federation</td>\n      <td>21:00:09.377939</td>\n      <td>definition: a native or inhabitant of Russia;...</td>\n      <td>21:00:10.816732</td>\n    </tr>\n    <tr>\n      <th>16</th>\n      <td>879665879</td>\n      <td>/definitions</td>\n      <td>USA</td>\n      <td>21:00:25.798577</td>\n      <td>definition: North American republic containin...</td>\n      <td>21:00:26.378382</td>\n    </tr>\n    <tr>\n      <th>17</th>\n      <td>879665880</td>\n      <td>/definitions</td>\n      <td>Lenin</td>\n      <td>21:01:50.187308</td>\n      <td>definition: Russian founder of the Bolsheviks...</td>\n      <td>21:01:50.732104</td>\n    </tr>\n  </tbody>\n</table>\n</div>"
     },
     "execution_count": 6,
     "metadata": {},
     "output_type": "execute_result"
    }
   ],
   "source": [
    "data_new"
   ]
  },
  {
   "cell_type": "code",
   "execution_count": 7,
   "metadata": {},
   "outputs": [],
   "source": [
    "data_df = data_df.merge(data_new, right_on = 0, left_on = 'update_id', how='inner')\n",
    "data_df.rename(columns={1:'operation', 3: 'start_time', 4: 'answer', 5: 'finish_time'}, inplace=True)\n",
    "data_df.drop(columns=[0], inplace=True)\n",
    "data_df.drop(columns=[2], inplace=True)\n",
    "data_df['start_time']= pd.to_datetime(data_df['start_time'])\n",
    "data_df['finish_time']= pd.to_datetime(data_df['finish_time'])\n",
    "data_df['time'] = data_df['finish_time'] - data_df['start_time']\n"
   ]
  },
  {
   "cell_type": "code",
   "execution_count": 8,
   "metadata": {
    "colab": {
     "base_uri": "https://localhost:8080/",
     "height": 1000
    },
    "id": "PKh9OTJl8vF6",
    "outputId": "ec1e7428-905b-4799-b9dc-45723304fbd9",
    "tags": []
   },
   "outputs": [
    {
     "data": {
      "text/plain": "      ok                                             result    from_id  \\\n0   True  {'update_id': 879665863, 'message': {'message_...  490905654   \n1   True  {'update_id': 879665866, 'message': {'message_...  490905654   \n2   True  {'update_id': 879665868, 'message': {'message_...  490905654   \n3   True  {'update_id': 879665870, 'message': {'message_...  490905654   \n4   True  {'update_id': 879665871, 'message': {'message_...  490905654   \n5   True  {'update_id': 879665873, 'message': {'message_...  490905654   \n6   True  {'update_id': 879665874, 'message': {'message_...  490905654   \n7   True  {'update_id': 879665877, 'message': {'message_...  490905654   \n8   True  {'update_id': 879665878, 'message': {'message_...  490905654   \n9   True  {'update_id': 879665879, 'message': {'message_...  490905654   \n10  True  {'update_id': 879665880, 'message': {'message_...  490905654   \n\n    from_isbot chat_type chat_username from_language_code  \\\n0        False   private   DedAzaMarks                 ru   \n1        False   private   DedAzaMarks                 ru   \n2        False   private   DedAzaMarks                 ru   \n3        False   private   DedAzaMarks                 ru   \n4        False   private   DedAzaMarks                 ru   \n5        False   private   DedAzaMarks                 ru   \n6        False   private   DedAzaMarks                 ru   \n7        False   private   DedAzaMarks                 ru   \n8        False   private   DedAzaMarks                 ru   \n9        False   private   DedAzaMarks                 ru   \n10       False   private   DedAzaMarks                 ru   \n\n                                                 text        date  message_id  \\\n0   Is it for fear to wet a widow's eye,\\nThat tho...  1626631029         436   \n1                                                lake  1626631082         441   \n2                                                lake  1626631091         444   \n3                                              sunset  1626631103         447   \n4                                                math  1626631120         449   \n5                                                math  1626631128         452   \n6                                                meth  1626631133         454   \n7                                              Russia  1626631167         459   \n8                                  Russian Federation  1626631208         461   \n9                                                 USA  1626631225         464   \n10                                              Lenin  1626631309         466   \n\n    update_id     operation                 start_time  \\\n0   879665863    /translate 2021-07-18 20:57:09.736097   \n1   879665866  /definitions 2021-07-18 20:58:02.273934   \n2   879665868     /examples 2021-07-18 20:58:11.440843   \n3   879665870  /definitions 2021-07-18 20:58:24.861600   \n4   879665871  /definitions 2021-07-18 20:58:40.973808   \n5   879665873     /synonyms 2021-07-18 20:58:50.081359   \n6   879665874     /synonyms 2021-07-18 20:58:54.960455   \n7   879665877  /definitions 2021-07-18 20:59:27.909433   \n8   879665878  /definitions 2021-07-18 21:00:09.377939   \n9   879665879  /definitions 2021-07-18 21:00:25.798577   \n10  879665880  /definitions 2021-07-18 21:01:50.187308   \n\n                                               answer  \\\n0   От страха ли промочить глаз вдове, Что ты пожи...   \n1    definition: a body of (usually fresh) water s...   \n2                                                       \n3    definition: the time in the evening at which ...   \n4    definition: a science (or group of related sc...   \n5                                  mathematics, maths   \n6    chalk, chicken feed, crank, deoxyephedrine, g...   \n7    definition: a former communist country in eas...   \n8    definition: a native or inhabitant of Russia;...   \n9    definition: North American republic containin...   \n10   definition: Russian founder of the Bolsheviks...   \n\n                  finish_time                   time  \n0  2021-07-18 20:57:10.696680 0 days 00:00:00.960583  \n1  2021-07-18 20:58:02.878271 0 days 00:00:00.604337  \n2  2021-07-18 20:58:11.998675 0 days 00:00:00.557832  \n3  2021-07-18 20:58:25.991970 0 days 00:00:01.130370  \n4  2021-07-18 20:58:41.519592 0 days 00:00:00.545784  \n5  2021-07-18 20:58:50.607824 0 days 00:00:00.526465  \n6  2021-07-18 20:58:55.529759 0 days 00:00:00.569304  \n7  2021-07-18 20:59:28.726288 0 days 00:00:00.816855  \n8  2021-07-18 21:00:10.816732 0 days 00:00:01.438793  \n9  2021-07-18 21:00:26.378382 0 days 00:00:00.579805  \n10 2021-07-18 21:01:50.732104 0 days 00:00:00.544796  ",
      "text/html": "<div>\n<style scoped>\n    .dataframe tbody tr th:only-of-type {\n        vertical-align: middle;\n    }\n\n    .dataframe tbody tr th {\n        vertical-align: top;\n    }\n\n    .dataframe thead th {\n        text-align: right;\n    }\n</style>\n<table border=\"1\" class=\"dataframe\">\n  <thead>\n    <tr style=\"text-align: right;\">\n      <th></th>\n      <th>ok</th>\n      <th>result</th>\n      <th>from_id</th>\n      <th>from_isbot</th>\n      <th>chat_type</th>\n      <th>chat_username</th>\n      <th>from_language_code</th>\n      <th>text</th>\n      <th>date</th>\n      <th>message_id</th>\n      <th>update_id</th>\n      <th>operation</th>\n      <th>start_time</th>\n      <th>answer</th>\n      <th>finish_time</th>\n      <th>time</th>\n    </tr>\n  </thead>\n  <tbody>\n    <tr>\n      <th>0</th>\n      <td>True</td>\n      <td>{'update_id': 879665863, 'message': {'message_...</td>\n      <td>490905654</td>\n      <td>False</td>\n      <td>private</td>\n      <td>DedAzaMarks</td>\n      <td>ru</td>\n      <td>Is it for fear to wet a widow's eye,\\nThat tho...</td>\n      <td>1626631029</td>\n      <td>436</td>\n      <td>879665863</td>\n      <td>/translate</td>\n      <td>2021-07-18 20:57:09.736097</td>\n      <td>От страха ли промочить глаз вдове, Что ты пожи...</td>\n      <td>2021-07-18 20:57:10.696680</td>\n      <td>0 days 00:00:00.960583</td>\n    </tr>\n    <tr>\n      <th>1</th>\n      <td>True</td>\n      <td>{'update_id': 879665866, 'message': {'message_...</td>\n      <td>490905654</td>\n      <td>False</td>\n      <td>private</td>\n      <td>DedAzaMarks</td>\n      <td>ru</td>\n      <td>lake</td>\n      <td>1626631082</td>\n      <td>441</td>\n      <td>879665866</td>\n      <td>/definitions</td>\n      <td>2021-07-18 20:58:02.273934</td>\n      <td>definition: a body of (usually fresh) water s...</td>\n      <td>2021-07-18 20:58:02.878271</td>\n      <td>0 days 00:00:00.604337</td>\n    </tr>\n    <tr>\n      <th>2</th>\n      <td>True</td>\n      <td>{'update_id': 879665868, 'message': {'message_...</td>\n      <td>490905654</td>\n      <td>False</td>\n      <td>private</td>\n      <td>DedAzaMarks</td>\n      <td>ru</td>\n      <td>lake</td>\n      <td>1626631091</td>\n      <td>444</td>\n      <td>879665868</td>\n      <td>/examples</td>\n      <td>2021-07-18 20:58:11.440843</td>\n      <td></td>\n      <td>2021-07-18 20:58:11.998675</td>\n      <td>0 days 00:00:00.557832</td>\n    </tr>\n    <tr>\n      <th>3</th>\n      <td>True</td>\n      <td>{'update_id': 879665870, 'message': {'message_...</td>\n      <td>490905654</td>\n      <td>False</td>\n      <td>private</td>\n      <td>DedAzaMarks</td>\n      <td>ru</td>\n      <td>sunset</td>\n      <td>1626631103</td>\n      <td>447</td>\n      <td>879665870</td>\n      <td>/definitions</td>\n      <td>2021-07-18 20:58:24.861600</td>\n      <td>definition: the time in the evening at which ...</td>\n      <td>2021-07-18 20:58:25.991970</td>\n      <td>0 days 00:00:01.130370</td>\n    </tr>\n    <tr>\n      <th>4</th>\n      <td>True</td>\n      <td>{'update_id': 879665871, 'message': {'message_...</td>\n      <td>490905654</td>\n      <td>False</td>\n      <td>private</td>\n      <td>DedAzaMarks</td>\n      <td>ru</td>\n      <td>math</td>\n      <td>1626631120</td>\n      <td>449</td>\n      <td>879665871</td>\n      <td>/definitions</td>\n      <td>2021-07-18 20:58:40.973808</td>\n      <td>definition: a science (or group of related sc...</td>\n      <td>2021-07-18 20:58:41.519592</td>\n      <td>0 days 00:00:00.545784</td>\n    </tr>\n    <tr>\n      <th>5</th>\n      <td>True</td>\n      <td>{'update_id': 879665873, 'message': {'message_...</td>\n      <td>490905654</td>\n      <td>False</td>\n      <td>private</td>\n      <td>DedAzaMarks</td>\n      <td>ru</td>\n      <td>math</td>\n      <td>1626631128</td>\n      <td>452</td>\n      <td>879665873</td>\n      <td>/synonyms</td>\n      <td>2021-07-18 20:58:50.081359</td>\n      <td>mathematics, maths</td>\n      <td>2021-07-18 20:58:50.607824</td>\n      <td>0 days 00:00:00.526465</td>\n    </tr>\n    <tr>\n      <th>6</th>\n      <td>True</td>\n      <td>{'update_id': 879665874, 'message': {'message_...</td>\n      <td>490905654</td>\n      <td>False</td>\n      <td>private</td>\n      <td>DedAzaMarks</td>\n      <td>ru</td>\n      <td>meth</td>\n      <td>1626631133</td>\n      <td>454</td>\n      <td>879665874</td>\n      <td>/synonyms</td>\n      <td>2021-07-18 20:58:54.960455</td>\n      <td>chalk, chicken feed, crank, deoxyephedrine, g...</td>\n      <td>2021-07-18 20:58:55.529759</td>\n      <td>0 days 00:00:00.569304</td>\n    </tr>\n    <tr>\n      <th>7</th>\n      <td>True</td>\n      <td>{'update_id': 879665877, 'message': {'message_...</td>\n      <td>490905654</td>\n      <td>False</td>\n      <td>private</td>\n      <td>DedAzaMarks</td>\n      <td>ru</td>\n      <td>Russia</td>\n      <td>1626631167</td>\n      <td>459</td>\n      <td>879665877</td>\n      <td>/definitions</td>\n      <td>2021-07-18 20:59:27.909433</td>\n      <td>definition: a former communist country in eas...</td>\n      <td>2021-07-18 20:59:28.726288</td>\n      <td>0 days 00:00:00.816855</td>\n    </tr>\n    <tr>\n      <th>8</th>\n      <td>True</td>\n      <td>{'update_id': 879665878, 'message': {'message_...</td>\n      <td>490905654</td>\n      <td>False</td>\n      <td>private</td>\n      <td>DedAzaMarks</td>\n      <td>ru</td>\n      <td>Russian Federation</td>\n      <td>1626631208</td>\n      <td>461</td>\n      <td>879665878</td>\n      <td>/definitions</td>\n      <td>2021-07-18 21:00:09.377939</td>\n      <td>definition: a native or inhabitant of Russia;...</td>\n      <td>2021-07-18 21:00:10.816732</td>\n      <td>0 days 00:00:01.438793</td>\n    </tr>\n    <tr>\n      <th>9</th>\n      <td>True</td>\n      <td>{'update_id': 879665879, 'message': {'message_...</td>\n      <td>490905654</td>\n      <td>False</td>\n      <td>private</td>\n      <td>DedAzaMarks</td>\n      <td>ru</td>\n      <td>USA</td>\n      <td>1626631225</td>\n      <td>464</td>\n      <td>879665879</td>\n      <td>/definitions</td>\n      <td>2021-07-18 21:00:25.798577</td>\n      <td>definition: North American republic containin...</td>\n      <td>2021-07-18 21:00:26.378382</td>\n      <td>0 days 00:00:00.579805</td>\n    </tr>\n    <tr>\n      <th>10</th>\n      <td>True</td>\n      <td>{'update_id': 879665880, 'message': {'message_...</td>\n      <td>490905654</td>\n      <td>False</td>\n      <td>private</td>\n      <td>DedAzaMarks</td>\n      <td>ru</td>\n      <td>Lenin</td>\n      <td>1626631309</td>\n      <td>466</td>\n      <td>879665880</td>\n      <td>/definitions</td>\n      <td>2021-07-18 21:01:50.187308</td>\n      <td>definition: Russian founder of the Bolsheviks...</td>\n      <td>2021-07-18 21:01:50.732104</td>\n      <td>0 days 00:00:00.544796</td>\n    </tr>\n  </tbody>\n</table>\n</div>"
     },
     "execution_count": 8,
     "metadata": {},
     "output_type": "execute_result"
    }
   ],
   "source": [
    "data_df\n"
   ]
  },
  {
   "cell_type": "code",
   "execution_count": 9,
   "metadata": {
    "colab": {
     "base_uri": "https://localhost:8080/",
     "height": 49
    },
    "id": "AIoW0nDGBFYr",
    "outputId": "f593c79c-e48b-4a64-eb6a-be15c7ebc894"
   },
   "outputs": [
    {
     "data": {
      "text/plain": "1"
     },
     "execution_count": 9,
     "metadata": {},
     "output_type": "execute_result"
    }
   ],
   "source": [
    "# запросы для отчета\n",
    "\n",
    "len(data_df['from_id'].unique()) # количество уникальных пользователей\n",
    "\n",
    "\n"
   ]
  },
  {
   "cell_type": "code",
   "execution_count": 10,
   "metadata": {},
   "outputs": [
    {
     "data": {
      "text/plain": "11"
     },
     "execution_count": 10,
     "metadata": {},
     "output_type": "execute_result"
    }
   ],
   "source": [
    "len(data_df['message_id']) # количество сообщений \n"
   ]
  },
  {
   "cell_type": "code",
   "execution_count": 11,
   "metadata": {},
   "outputs": [
    {
     "data": {
      "text/plain": "array(['DedAzaMarks'], dtype=object)"
     },
     "execution_count": 11,
     "metadata": {},
     "output_type": "execute_result"
    }
   ],
   "source": [
    "data_df['chat_username'].unique() # имена уникальных пользователей\n"
   ]
  },
  {
   "cell_type": "code",
   "execution_count": 12,
   "metadata": {},
   "outputs": [
    {
     "data": {
      "text/plain": "Empty DataFrame\nColumns: [ok, result, from_id, from_isbot, chat_type, chat_username, from_language_code, text, date, message_id, update_id, operation, start_time, answer, finish_time, time]\nIndex: []",
      "text/html": "<div>\n<style scoped>\n    .dataframe tbody tr th:only-of-type {\n        vertical-align: middle;\n    }\n\n    .dataframe tbody tr th {\n        vertical-align: top;\n    }\n\n    .dataframe thead th {\n        text-align: right;\n    }\n</style>\n<table border=\"1\" class=\"dataframe\">\n  <thead>\n    <tr style=\"text-align: right;\">\n      <th></th>\n      <th>ok</th>\n      <th>result</th>\n      <th>from_id</th>\n      <th>from_isbot</th>\n      <th>chat_type</th>\n      <th>chat_username</th>\n      <th>from_language_code</th>\n      <th>text</th>\n      <th>date</th>\n      <th>message_id</th>\n      <th>update_id</th>\n      <th>operation</th>\n      <th>start_time</th>\n      <th>answer</th>\n      <th>finish_time</th>\n      <th>time</th>\n    </tr>\n  </thead>\n  <tbody>\n  </tbody>\n</table>\n</div>"
     },
     "execution_count": 12,
     "metadata": {},
     "output_type": "execute_result"
    }
   ],
   "source": [
    "data_df[data_df.ok == False] # таблица ошибок"
   ]
  },
  {
   "cell_type": "code",
   "execution_count": 13,
   "metadata": {},
   "outputs": [
    {
     "data": {
      "text/plain": "<AxesSubplot:xlabel='operation', ylabel='Count'>"
     },
     "execution_count": 13,
     "metadata": {},
     "output_type": "execute_result"
    },
    {
     "data": {
      "text/plain": "<Figure size 432x288 with 1 Axes>",
      "image/png": "[encoded data removed]"
     },
     "metadata": {
      "needs_background": "light"
     },
     "output_type": "display_data"
    }
   ],
   "source": [
    "sns.histplot(data_df['operation'])"
   ]
  },
  {
   "cell_type": "code",
   "execution_count": 14,
   "metadata": {},
   "outputs": [
    {
     "data": {
      "text/plain": "<AxesSubplot:xlabel='chat_username', ylabel='Count'>"
     },
     "execution_count": 14,
     "metadata": {},
     "output_type": "execute_result"
    },
    {
     "data": {
      "text/plain": "<Figure size 432x288 with 1 Axes>",
      "image/png": "[encoded data removed]"
     },
     "metadata": {
      "needs_background": "light"
     },
     "output_type": "display_data"
    }
   ],
   "source": [
    "sns.histplot(data_df['chat_username'])"
   ]
  },
  {
   "cell_type": "code",
   "execution_count": null,
   "outputs": [],
   "source": [],
   "metadata": {
    "collapsed": false,
    "pycharm": {
     "name": "#%%\n"
    }
   }
  }
 ],
 "metadata": {
  "colab": {
   "name": "Analysis.ipynb",
   "provenance": []
  },
  "kernelspec": {
   "display_name": "Python 3",
   "language": "python",
   "name": "python3"
  },
  "language_info": {
   "codemirror_mode": {
    "name": "ipython",
    "version": 3
   },
   "file_extension": ".py",
   "mimetype": "text/x-python",
   "name": "python",
   "nbconvert_exporter": "python",
   "pygments_lexer": "ipython3",
   "version": "3.9.4"
  }
 },
 "nbformat": 4,
 "nbformat_minor": 4
}